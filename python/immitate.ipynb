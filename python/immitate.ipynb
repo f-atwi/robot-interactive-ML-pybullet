{
 "cells": [
  {
   "cell_type": "code",
   "execution_count": 1,
   "metadata": {},
   "outputs": [],
   "source": [
    "from qibullet import SimulationManager\n",
    "# from qibullet import RomeoVirtual\n",
    "from qibullet import PepperVirtual\n",
    "# from qibullet import NaoVirtual\n",
    "import numpy as np\n",
    "import time\n",
    "import pybullet as p\n",
    "import cv2\n",
    "import math\n",
    "from poseDetection import PoseDetection\n",
    "from random import random\n",
    "import keras\n",
    "import csv\n",
    "import pickle as pkl"
   ]
  },
  {
   "cell_type": "code",
   "execution_count": 2,
   "metadata": {},
   "outputs": [],
   "source": [
    "def euler2quaternion(yaw, pitch, roll):\n",
    "    qx = np.sin(roll/2) * np.cos(pitch/2) * np.cos(yaw/2) - np.cos(roll/2) * np.sin(pitch/2) * np.sin(yaw/2)\n",
    "    qy = np.cos(roll/2) * np.sin(pitch/2) * np.cos(yaw/2) + np.sin(roll/2) * np.cos(pitch/2) * np.sin(yaw/2)\n",
    "    qz = np.cos(roll/2) * np.cos(pitch/2) * np.sin(yaw/2) - np.sin(roll/2) * np.sin(pitch/2) * np.cos(yaw/2)\n",
    "    qw = np.cos(roll/2) * np.cos(pitch/2) * np.cos(yaw/2) + np.sin(roll/2) * np.sin(pitch/2) * np.sin(yaw/2)\n",
    "\n",
    "    return [qx, qy, qz, qw]\n"
   ]
  },
  {
   "cell_type": "code",
   "execution_count": 3,
   "metadata": {},
   "outputs": [],
   "source": [
    "def clamp(num, min_value, max_value):\n",
    "    return float(max(min(num, max_value), min_value))"
   ]
  },
  {
   "cell_type": "code",
   "execution_count": 4,
   "metadata": {},
   "outputs": [],
   "source": [
    "simulation_manager = SimulationManager()\n",
    "client_id = simulation_manager.launchSimulation(gui=True)"
   ]
  },
  {
   "cell_type": "code",
   "execution_count": 5,
   "metadata": {},
   "outputs": [],
   "source": [
    "# Loading pepper\n",
    "pepper = simulation_manager.spawnPepper(client_id,spawn_ground_plane=True)\n",
    "pepper2 = simulation_manager.spawnPepper(client_id,translation=[1.5, 0, 0], quaternion = euler2quaternion(math.pi,0,0))\n",
    "# nao = simulation_manager.spawnNao(client_id,translation=[0, 2, 0],quaternion=[0, 0, 0, 1])\n",
    "# romeo = simulation_manager.spawnRomeo(client_id,translation=[0, 4, 0],spawn_ground_plane=False)"
   ]
  },
  {
   "cell_type": "code",
   "execution_count": 6,
   "metadata": {},
   "outputs": [
    {
     "data": {
      "text/plain": [
       "1"
      ]
     },
     "execution_count": 6,
     "metadata": {},
     "output_type": "execute_result"
    }
   ],
   "source": [
    "p.connect(p.DIRECT)"
   ]
  },
  {
   "cell_type": "code",
   "execution_count": 7,
   "metadata": {},
   "outputs": [],
   "source": [
    "handle2 = pepper.subscribeCamera(PepperVirtual.ID_CAMERA_TOP)\n",
    "handle3 = pepper2.subscribeCamera(PepperVirtual.ID_CAMERA_TOP)"
   ]
  },
  {
   "cell_type": "code",
   "execution_count": 8,
   "metadata": {},
   "outputs": [],
   "source": [
    "pd = PoseDetection(model_complexity = 2)"
   ]
  },
  {
   "cell_type": "code",
   "execution_count": 10,
   "metadata": {},
   "outputs": [],
   "source": [
    "# Controlling joints\n",
    "joint_parameters = list()\n",
    "\n",
    "for name, joint in pepper.joint_dict.items():\n",
    "    if \"Shoulder\" in name or \"Elbow\" in name:\n",
    "        joint_parameters.append((name,joint.getLowerLimit(),joint.getUpperLimit()))\n"
   ]
  },
  {
   "cell_type": "code",
   "execution_count": null,
   "metadata": {},
   "outputs": [],
   "source": [
    "# Keras serialize model\n",
    "\n",
    "landmarks = dict()\n",
    "previous_time = time.time()\n",
    "model = keras.models.load_model(\"model\")\n",
    "changed = False\n",
    "try:\n",
    "    while True:\n",
    "        # Get pose from camera\n",
    "        img = pepper.getCameraFrame(handle2)\n",
    "        img2 = pepper2.getCameraFrame(handle3)\n",
    "        img_og = img.copy()\n",
    "        results = pd.getPose(img,draw_joints =True, draw_connections = True, only_arms_connections = True)\n",
    "        if results.pose_landmarks:\n",
    "            for id,lm in enumerate(results.pose_landmarks.landmark):\n",
    "                if 10<id<17:\n",
    "                    h, w, c = img.shape\n",
    "                    x, y = int(lm.x*w) ,int(lm.y*h)\n",
    "                    cv2.circle(img_og, (x,y), 3 , (0,255,0), cv2.FILLED)\n",
    "                    landmarks.update({str(id)+\"_x\":lm.x})\n",
    "                    landmarks.update({str(id)+\"_y\":lm.y})\n",
    "                    landmarks.update({str(id)+\"_z\":lm.z})\n",
    "\n",
    "                    \n",
    "        cv2.imshow(\"actor\", img_og)\n",
    "        cv2.imshow(\"immitator\", img2)\n",
    "        cv2.waitKey(1)\n",
    "\n",
    "\n",
    "        # Update arm postion of actor\n",
    "        current_time=time.time()\n",
    "        if current_time - previous_time >10:\n",
    "            for joint_parameter in joint_parameters:\n",
    "                random_position = random()*(joint_parameter[2]-joint_parameter[1])+joint_parameter[1]\n",
    "                pepper2.setAngles(joint_parameter[0],random_position,1)\n",
    "            previous_time=current_time \n",
    "            changed=False\n",
    "\n",
    "        \n",
    "        if current_time - previous_time >5 and not changed:\n",
    "            if len(landmarks) == 18:\n",
    "                changed = True\n",
    "                x_data = [[landmarks[key] for key in landmarks]]\n",
    "                y_data=model.predict(x_data)\n",
    "                for i,joint_parameter in enumerate(joint_parameters):\n",
    "                    pepper.setAngles(joint_parameter[0],clamp(y_data[0,i],joint_parameter[1],joint_parameter[2]),1)\n",
    "\n",
    "\n",
    "except KeyboardInterrupt:\n",
    "    pass\n",
    "finally:\n",
    "    cv2.destroyAllWindows()"
   ]
  },
  {
   "cell_type": "code",
   "execution_count": null,
   "metadata": {},
   "outputs": [],
   "source": [
    "# sklearn multioutputregressor model\n",
    "\n",
    "landmarks = dict()\n",
    "previous_time = time.time()\n",
    "model = pkl.load(open(\"model.pkl\", 'rb'))\n",
    "changed = False\n",
    "try:\n",
    "    while True:\n",
    "        # Get pose from camera\n",
    "        img = pepper.getCameraFrame(handle2)\n",
    "        img2 = pepper2.getCameraFrame(handle3)\n",
    "        img_og = img.copy()\n",
    "        results = pd.getPose(img,draw_joints =True, draw_connections = True, only_arms_connections = True)\n",
    "        if results.pose_landmarks:\n",
    "            for id,lm in enumerate(results.pose_landmarks.landmark):\n",
    "                if 10<id<17:\n",
    "                    h, w, c = img.shape\n",
    "                    x, y = int(lm.x*w) ,int(lm.y*h)\n",
    "                    cv2.circle(img_og, (x,y), 3 , (0,255,0), cv2.FILLED)\n",
    "                    landmarks.update({str(id)+\"_x\":lm.x})\n",
    "                    landmarks.update({str(id)+\"_y\":lm.y})\n",
    "                    landmarks.update({str(id)+\"_z\":lm.z})\n",
    "\n",
    "        cv2.imshow(\"actor\", img_og)\n",
    "        cv2.imshow(\"immitator\", img2)\n",
    "        cv2.waitKey(1)\n",
    "\n",
    "\n",
    "        # Update arm postion of actor\n",
    "        current_time=time.time()\n",
    "        if current_time - previous_time >10:\n",
    "            for joint_parameter in joint_parameters:\n",
    "                random_position = random()*(joint_parameter[2]-joint_parameter[1])+joint_parameter[1]\n",
    "                pepper2.setAngles(joint_parameter[0],random_position,1)\n",
    "            previous_time=current_time \n",
    "            changed = False\n",
    "\n",
    "        \n",
    "        if current_time - previous_time >5 and not changed:\n",
    "            if len(landmarks) == 18:\n",
    "                print(\"changing\")\n",
    "                changed = True\n",
    "                x_data = [[landmarks[key] for key in landmarks]]\n",
    "                y_data = model.predict(x_data)\n",
    "                for i,joint_parameter in enumerate(joint_parameters):\n",
    "                    pepper.setAngles(joint_parameter[0],clamp(y_data[0,i],joint_parameter[1],joint_parameter[2]),1)\n",
    "\n",
    "except KeyboardInterrupt:\n",
    "    pass\n",
    "finally:\n",
    "    cv2.destroyAllWindows()"
   ]
  },
  {
   "cell_type": "code",
   "execution_count": null,
   "metadata": {},
   "outputs": [],
   "source": [
    "simulation_manager.stopSimulation(client_id)"
   ]
  }
 ],
 "metadata": {
  "kernelspec": {
   "display_name": "Python 3",
   "language": "python",
   "name": "python3"
  },
  "language_info": {
   "codemirror_mode": {
    "name": "ipython",
    "version": 3
   },
   "file_extension": ".py",
   "mimetype": "text/x-python",
   "name": "python",
   "nbconvert_exporter": "python",
   "pygments_lexer": "ipython3",
   "version": "3.8.1"
  }
 },
 "nbformat": 4,
 "nbformat_minor": 4
}
