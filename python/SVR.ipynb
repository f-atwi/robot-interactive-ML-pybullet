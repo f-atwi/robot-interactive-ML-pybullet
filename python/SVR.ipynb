{
 "cells": [
  {
   "cell_type": "code",
   "execution_count": 35,
   "metadata": {},
   "outputs": [],
   "source": [
    "from sklearn.svm import SVR\n",
    "import numpy as np\n",
    "from sklearn import metrics\n",
    "from sklearn.model_selection import train_test_split\n",
    "from sklearn.preprocessing import StandardScaler\n",
    "from sklearn.pipeline import make_pipeline\n",
    "import pickle as pkl\n"
   ]
  },
  {
   "cell_type": "code",
   "execution_count": 17,
   "metadata": {},
   "outputs": [],
   "source": [
    "with np.load('dataset10000.npz') as data:\n",
    "    x_data,y_data = data['x'],data['y']"
   ]
  },
  {
   "cell_type": "code",
   "execution_count": 18,
   "metadata": {},
   "outputs": [],
   "source": [
    "x_train, x_test, y_train, y_test = train_test_split(x_data, y_data, test_size=0.2)"
   ]
  },
  {
   "cell_type": "code",
   "execution_count": 33,
   "metadata": {},
   "outputs": [
    {
     "name": "stdout",
     "output_type": "stream",
     "text": [
      "[LibSVM]1.4701482068403897\n",
      "[LibSVM]0.2058854714434253\n",
      "[LibSVM]1.449868103760818\n",
      "[LibSVM]0.20721868087782702\n",
      "[LibSVM]1.4501994958721725\n",
      "[LibSVM]0.20755519122615998\n",
      "[LibSVM]1.4646944841228746\n",
      "[LibSVM]0.20152478049625952\n"
     ]
    }
   ],
   "source": [
    "svrs = [make_pipeline(SVR(kernel = \"poly\" , degree =0   ,verbose =True , tol = 0.00001,  max_iter = 100000 ))] * 8\n",
    "y_predict =np.empty((2000,8))\n",
    "for i, svr in enumerate(svrs):\n",
    "    svr.fit(x_train, y_train[:,i])\n",
    "    y_predict = svr.predict(x_test)\n",
    "    print(metrics.mean_squared_error(y_test[:,i],y_predict))"
   ]
  },
  {
   "cell_type": "code",
   "execution_count": 36,
   "metadata": {},
   "outputs": [],
   "source": [
    "with open('model.pkl', 'wb') as f:\n",
    "    pkl.dump(svrs, f)"
   ]
  }
 ],
 "metadata": {
  "kernelspec": {
   "display_name": "Python 3",
   "language": "python",
   "name": "python3"
  },
  "language_info": {
   "codemirror_mode": {
    "name": "ipython",
    "version": 3
   },
   "file_extension": ".py",
   "mimetype": "text/x-python",
   "name": "python",
   "nbconvert_exporter": "python",
   "pygments_lexer": "ipython3",
   "version": "3.8.1"
  }
 },
 "nbformat": 4,
 "nbformat_minor": 4
}
