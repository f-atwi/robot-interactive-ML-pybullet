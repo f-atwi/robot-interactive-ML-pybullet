{
 "cells": [
  {
   "cell_type": "code",
   "execution_count": null,
   "metadata": {},
   "outputs": [],
   "source": [
    "from qibullet import SimulationManager\n",
    "# from qibullet import RomeoVirtual\n",
    "from qibullet import PepperVirtual\n",
    "# from qibullet import NaoVirtual\n",
    "import numpy as np\n",
    "import time\n",
    "import pybullet as p\n",
    "import cv2\n",
    "import math\n",
    "from poseDetection import PoseDetection\n",
    "from random import random"
   ]
  },
  {
   "cell_type": "code",
   "execution_count": null,
   "metadata": {},
   "outputs": [],
   "source": [
    "def euler2quaternion(yaw, pitch, roll):\n",
    "\n",
    "        qx = np.sin(roll/2) * np.cos(pitch/2) * np.cos(yaw/2) - np.cos(roll/2) * np.sin(pitch/2) * np.sin(yaw/2)\n",
    "        qy = np.cos(roll/2) * np.sin(pitch/2) * np.cos(yaw/2) + np.sin(roll/2) * np.cos(pitch/2) * np.sin(yaw/2)\n",
    "        qz = np.cos(roll/2) * np.cos(pitch/2) * np.sin(yaw/2) - np.sin(roll/2) * np.sin(pitch/2) * np.cos(yaw/2)\n",
    "        qw = np.cos(roll/2) * np.cos(pitch/2) * np.cos(yaw/2) + np.sin(roll/2) * np.sin(pitch/2) * np.sin(yaw/2)\n",
    "\n",
    "        return [qx, qy, qz, qw]\n"
   ]
  },
  {
   "cell_type": "code",
   "execution_count": null,
   "metadata": {},
   "outputs": [],
   "source": [
    "simulation_manager = SimulationManager()\n",
    "client_id = simulation_manager.launchSimulation(gui=False)"
   ]
  },
  {
   "cell_type": "code",
   "execution_count": null,
   "metadata": {},
   "outputs": [],
   "source": [
    "# Loading pepper\n",
    "pepper = simulation_manager.spawnPepper(client_id,spawn_ground_plane=True)\n",
    "pepper2 = simulation_manager.spawnPepper(client_id,translation=[1.5, 0, 0], quaternion = euler2quaternion(math.pi,0,0))\n",
    "# nao = simulation_manager.spawnNao(client_id,translation=[0, 2, 0],quaternion=[0, 0, 0, 1])\n",
    "# romeo = simulation_manager.spawnRomeo(client_id,translation=[0, 4, 0],spawn_ground_plane=False)"
   ]
  },
  {
   "cell_type": "code",
   "execution_count": null,
   "metadata": {},
   "outputs": [],
   "source": [
    "p.connect(p.DIRECT)"
   ]
  },
  {
   "cell_type": "code",
   "execution_count": null,
   "metadata": {},
   "outputs": [],
   "source": [
    "handle2 = pepper.subscribeCamera(PepperVirtual.ID_CAMERA_TOP)"
   ]
  },
  {
   "cell_type": "code",
   "execution_count": null,
   "metadata": {},
   "outputs": [],
   "source": [
    "pd = PoseDetection(model_complexity = 2)"
   ]
  },
  {
   "cell_type": "code",
   "execution_count": null,
   "metadata": {},
   "outputs": [],
   "source": [
    "# Controlling joints\n",
    "joint_parameters = list()\n",
    "\n",
    "for name, joint in pepper.joint_dict.items():\n",
    "    if \"Shoulder\" in name or \"Elbow\" in name:\n",
    "        joint_parameters.append((name,joint.getLowerLimit(),joint.getUpperLimit()))\n"
   ]
  },
  {
   "cell_type": "code",
   "execution_count": null,
   "metadata": {},
   "outputs": [],
   "source": [
    "def collectData(dataset_size = 10000 , reset = False):\n",
    "    \n",
    "    # Accessing previous dataset\n",
    "    if reset:\n",
    "        print(\"Clearing data...\")\n",
    "        with open('dataset'+str(dataset_size)+'.npz', \"w+\") as f:\n",
    "                pass\n",
    "        x_data = np.empty([dataset_size,12])\n",
    "        y_data = np.empty([dataset_size,8])\n",
    "        step = 0\n",
    "    else:\n",
    "        try:\n",
    "            print(\"Loading previous data...\")\n",
    "            with np.load('dataset'+str(dataset_size)+'.npz') as data:\n",
    "                x_data,y_data = data['x'],data['y']\n",
    "            if x_data.shape[0] != y_data.shape[0]:\n",
    "                raise\n",
    "            step = x_data.shape[0]\n",
    "            x_data.resize((dataset_size,12))\n",
    "            y_data.resize((dataset_size,8))\n",
    "        except:\n",
    "            print(\"No data found, creating new file...\")\n",
    "            with open('dataset'+str(dataset_size)+'.npz', \"w+\") as f:\n",
    "                pass\n",
    "            x_data = np.empty([dataset_size,12])\n",
    "            y_data = np.empty([dataset_size,8])\n",
    "            step = 0\n",
    "    \n",
    "    \n",
    "    landmarks = dict()\n",
    "    angles = dict()\n",
    "    \n",
    "    previous_time = time.time()\n",
    "        try:\n",
    "        while step<dataset_size:\n",
    "            # Get pose from camera\n",
    "            img = pepper.getCameraFrame(handle2)\n",
    "            img_og = img.copy()\n",
    "            results = pd.getPose(img,draw_joints =True, draw_connections = True, only_arms_connections = True)\n",
    "            if results.pose_landmarks:\n",
    "                for id,lm in enumerate(results.pose_landmarks.landmark):\n",
    "                    if 10<id<17:\n",
    "                        h, w, c = img.shape\n",
    "                        x, y = int(lm.x*w) ,int(lm.y*h)\n",
    "                        cv2.circle(img_og, (x,y), 3 , (0,255,0), cv2.FILLED)\n",
    "                        landmarks.update({str(id)+\"_x\":lm.x})\n",
    "                        landmarks.update({str(id)+\"_y\":lm.y})\n",
    "            cv2.imshow(\"top camera\", img_og)\n",
    "            cv2.waitKey(1)\n",
    "            \n",
    "            \n",
    "            # Update arm postion of actor\n",
    "            current_time=time.time()\n",
    "            if current_time - previous_time >5:\n",
    "                for joint_parameter in joint_parameters:\n",
    "                    random_position = random()*(joint_parameter[2]-joint_parameter[1])+joint_parameter[1]\n",
    "                    pepper2.setAngles(joint_parameter[0],random_position,1)\n",
    "                    angles.update({joint_parameter[0]:random_position})\n",
    "                if (len(landmarks) == 12) and (len(angles) == 8):\n",
    "                    x_data[step] = [landmarks[key] for key in landmarks]\n",
    "                    y_data[step] = [angles[key] for key in angles]\n",
    "                    step = step + 1\n",
    "                previous_time=current_time\n",
    "\n",
    "    except KeyboardInterrupt:\n",
    "        cv2.destroyAllWindows()\n",
    "    finally:\n",
    "        print(x_data[:step,:])\n",
    "        np.savez('dataset'+str(dataset_size)+'.npz', x=x_data[:step,:], y=y_data[:step,:])\n",
    "    "
   ]
  },
  {
   "cell_type": "code",
   "execution_count": null,
   "metadata": {},
   "outputs": [],
   "source": [
    "collectData(10000, False)"
   ]
  },
  {
   "cell_type": "code",
   "execution_count": null,
   "metadata": {},
   "outputs": [],
   "source": [
    "# simulation_manager.stopSimulation(client_id)\n"
   ]
  }
 ],
 "metadata": {
  "kernelspec": {
   "display_name": "Python 3",
   "language": "python",
   "name": "python3"
  },
  "language_info": {
   "codemirror_mode": {
    "name": "ipython",
    "version": 3
   },
   "file_extension": ".py",
   "mimetype": "text/x-python",
   "name": "python",
   "nbconvert_exporter": "python",
   "pygments_lexer": "ipython3",
   "version": "3.8.1"
  }
 },
 "nbformat": 4,
 "nbformat_minor": 4
}
